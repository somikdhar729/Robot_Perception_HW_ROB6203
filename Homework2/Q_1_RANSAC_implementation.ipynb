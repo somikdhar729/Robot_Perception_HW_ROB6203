{
 "cells": [
  {
   "cell_type": "code",
   "execution_count": 1,
   "id": "36bf8df7",
   "metadata": {},
   "outputs": [
    {
     "name": "stdout",
     "output_type": "stream",
     "text": [
      "Jupyter environment detected. Enabling Open3D WebVisualizer.\n",
      "[Open3D INFO] WebRTC GUI backend enabled.\n",
      "[Open3D INFO] WebRTCWindowSystem: HTTP handshake server disabled.\n"
     ]
    }
   ],
   "source": [
    "import cv2\n",
    "import numpy as np\n",
    "from matplotlib import pyplot as plt\n",
    "import math\n",
    "import random\n",
    "import open3d as o3d"
   ]
  },
  {
   "cell_type": "code",
   "execution_count": 2,
   "id": "997f3acb",
   "metadata": {},
   "outputs": [],
   "source": [
    "# read demo point cloud provided by Open3D\n",
    "pcd_point_cloud = o3d.data.PCDPointCloud()\n",
    "pcd = o3d.io.read_point_cloud(pcd_point_cloud.path)\n",
    "# function to visualize the point cloud\n",
    "o3d.visualization.draw_geometries([pcd], zoom=1,\n",
    "                                front=[0.4257, -0.2125, -0.8795],\n",
    "                                lookat=[2.6172, 2.0475, 1.532],\n",
    "                                up=[-0.0694, -0.9768, 0.2024])"
   ]
  },
  {
   "cell_type": "markdown",
   "id": "154854d7",
   "metadata": {},
   "source": [
    "# Finding the plane from RANSAC API"
   ]
  },
  {
   "cell_type": "code",
   "execution_count": 3,
   "id": "f5274d61",
   "metadata": {},
   "outputs": [
    {
     "name": "stdout",
     "output_type": "stream",
     "text": [
      "Plane equation: -0.06x + -0.10y + 0.99z + -1.06 = 0\n"
     ]
    }
   ],
   "source": [
    "pcd_point_cloud = o3d.data.PCDPointCloud()\n",
    "pcd = o3d.io.read_point_cloud(pcd_point_cloud.path)\n",
    "\n",
    "plane_model, inliers = pcd.segment_plane(distance_threshold=0.01,\n",
    "                                         ransac_n=3,\n",
    "                                         num_iterations=1000)\n",
    "[a, b, c, d] = plane_model\n",
    "print(f\"Plane equation: {a:.2f}x + {b:.2f}y + {c:.2f}z + {d:.2f} = 0\")\n",
    "\n",
    "inlier_cloud = pcd.select_by_index(inliers)\n",
    "inlier_cloud.paint_uniform_color([1.0, 0, 0])\n",
    "outlier_cloud = pcd.select_by_index(inliers, invert=True)\n",
    "o3d.visualization.draw_geometries([inlier_cloud, outlier_cloud],\n",
    "                                  zoom=0.8,\n",
    "                                  front=[-0.4999, -0.1659, -0.8499],\n",
    "                                  lookat=[2.1813, 2.0619, 2.0999],\n",
    "                                  up=[0.1204, -0.9852, 0.1215])"
   ]
  },
  {
   "cell_type": "markdown",
   "id": "742b64ab",
   "metadata": {},
   "source": [
    "# Finding the plane using RANSAC Algortihm(from scratch)"
   ]
  },
  {
   "cell_type": "code",
   "execution_count": 4,
   "id": "619317de",
   "metadata": {},
   "outputs": [],
   "source": [
    "class RansacModel:\n",
    "    \n",
    "    def __init__(self, point_cloud_data = None, curve_fitting_model = None, num_iter = 1000, threshold = 0.01, n=1, d=1):\n",
    "        self.pcd = point_cloud_data                    # Point Cloud Data\n",
    "        self.model = curve_fitting_model               # Model to fit the data\n",
    "        self.k = num_iter                              # Maximum iterations allowed\n",
    "        self.t = threshold                             # Threshold values to determine data points fit well to the model\n",
    "        self.n = n                                     # Minimum number of data points to estimate model parameters\n",
    "#         self.d = d                           # Number of close data points required to assert that a model fits well to the data\n",
    "        \n",
    "    def collinearity_check(self, AB, AC):\n",
    "        # Neglecting 0.5 to avoid floating point computation\n",
    "        area = np.linalg.norm(np.cross(AB,AC))\n",
    "        if area == 0:\n",
    "            return True # The points are collinear\n",
    "        else:\n",
    "            return False\n",
    "    \n",
    "    # Function to find equation of plane.\n",
    "    def equation_plane(self, x1, y1, z1, x2, y2, z2, x3, y3, z3):\n",
    "     \n",
    "        a1 = x2 - x1\n",
    "        b1 = y2 - y1\n",
    "        c1 = z2 - z1\n",
    "        a2 = x3 - x1\n",
    "        b2 = y3 - y1\n",
    "        c2 = z3 - z1\n",
    "        a = b1 * c2 - b2 * c1\n",
    "        b = a2 * c1 - a1 * c2\n",
    "        c = a1 * b2 - b1 * a2\n",
    "        d = (- a * x1 - b * y1 - c * z1)\n",
    "        \n",
    "        return [a,b,c,d]\n",
    "    \n",
    "           \n",
    "    def fit(self):\n",
    "        iterations = 0\n",
    "        data_points = np.asarray(pcd.points)\n",
    "        total_points = len(data_points)\n",
    "        \n",
    "        # We need to the best fit plane to our point cloud.\n",
    "        # The equation of a plane is given by ax + by + cz + d = 0\n",
    "        # So we need minimum 3 points to find the parameters a, b, c\n",
    "        \n",
    "        a_final = 0\n",
    "        b_final = 0\n",
    "        c_final = 0\n",
    "        d_final = 0\n",
    "        \n",
    "        data_point_satisfy = -1\n",
    "        \n",
    "        selected_indices = []\n",
    "        while iterations < self.k:\n",
    "\n",
    "            data_point_satify_temp = 0\n",
    "            inliers = []\n",
    "            inliers_results = []\n",
    "            \n",
    "            \n",
    "            \n",
    "            area = True\n",
    "            # Selecting n random points from the point cloud\n",
    "            while area != False:\n",
    "\n",
    "                random_indices = random.sample(range(1,total_points), self.n)\n",
    "                # Check whether the three selected points are collinear or not\n",
    "                AB = data_points[random_indices[1]] - data_points[random_indices[0]]\n",
    "                AC = data_points[random_indices[2]] - data_points[random_indices[0]]\n",
    "                area = self.collinearity_check(AB,AC)\n",
    "                if random_indices in selected_indices:\n",
    "                    area = True\n",
    "                \n",
    "            # Now we are ensured that the three points are not collinear\n",
    "\n",
    "            selected_indices.append(random_indices) \n",
    "            \n",
    "            # Creating a plane from the three randomly chosen points ax + by + cz + d = 0\n",
    "            [x1,y1,z1] = data_points[random_indices[0]]\n",
    "            [x2,y2,z2] = data_points[random_indices[1]]\n",
    "            [x3,y3,z3] = data_points[random_indices[2]]\n",
    "            \n",
    "            [a,b,c,d] = self.equation_plane(x1, y1, z1, x2, y2, z2, x3, y3, z3)\n",
    "            \n",
    "            \n",
    "            parameters = np.array([[a],[b],[c]])\n",
    "            parameters_mod = math.sqrt(a*a + b*b + c*c)\n",
    "            points_plane = np.matmul(data_points,parameters) + d*np.ones([total_points,1])\n",
    "            distance_matrix = abs(points_plane/parameters_mod)\n",
    "            \n",
    "\n",
    "            data_point_satisfy_temp = np.count_nonzero(distance_matrix < self.t)\n",
    "\n",
    "        \n",
    "            if data_point_satisfy < data_point_satisfy_temp:\n",
    "\n",
    "                data_point_satisfy = data_point_satisfy_temp\n",
    "\n",
    "                [a_final, b_final, c_final, d_final] = [a,b,c,d]\n",
    "#                 print(f\"Plane equation: {a:.2f}x + {b:.2f}y + {c:.2f}z + {d:.2f} = 0\")\n",
    "               \n",
    "            iterations = iterations + 1\n",
    "        \n",
    "        plane_model = [a_final, b_final, c_final, d_final]\n",
    "        return plane_model"
   ]
  },
  {
   "cell_type": "code",
   "execution_count": 13,
   "id": "375cb62a",
   "metadata": {},
   "outputs": [
    {
     "name": "stdout",
     "output_type": "stream",
     "text": [
      "Plane equation: -0.04x + -0.08y + 0.77z + -0.81 = 0\n"
     ]
    }
   ],
   "source": [
    "if __name__ == '__main__':\n",
    "    '''\n",
    "       In our case we need to find the best plane that fits the 3D Point cloud\n",
    "    '''\n",
    "    n = 3 # Minimum number of points required to estimate a plane is 3\n",
    "    k = 5000\n",
    "    threshold = 0.01\n",
    "    \n",
    "    model = RansacModel(point_cloud_data=pcd,n=3,num_iter=k,threshold=threshold)\n",
    "\n",
    "    plane_model= model.fit()\n",
    "    a = plane_model[0]\n",
    "    b = plane_model[1]\n",
    "    c = plane_model[2]\n",
    "    d = plane_model[3]\n",
    "    print(f\"Plane equation: {a:.2f}x + {b:.2f}y + {c:.2f}z + {d:.2f} = 0\")\n",
    "    \n",
    "    \n",
    "    \n",
    "    \n",
    "    \n",
    "    \n",
    "    "
   ]
  },
  {
   "cell_type": "code",
   "execution_count": 14,
   "id": "a07f1486",
   "metadata": {},
   "outputs": [
    {
     "name": "stdout",
     "output_type": "stream",
     "text": [
      "Plane equation: -0.04x + -0.08y + 0.77z + -0.81 = 0\n"
     ]
    }
   ],
   "source": [
    "\n",
    "print(f\"Plane equation: {a:.2f}x + {b:.2f}y + {c:.2f}z + {d:.2f} = 0\")\n",
    "\n",
    "inlier_cloud = pcd.select_by_index(inliers)\n",
    "inlier_cloud.paint_uniform_color([1.0, 0, 0])\n",
    "outlier_cloud = pcd.select_by_index(inliers, invert=True)\n",
    "o3d.visualization.draw_geometries([inlier_cloud, outlier_cloud],\n",
    "                                  zoom=0.8,\n",
    "                                  front=[-0.4999, -0.1659, -0.8499],\n",
    "                                  lookat=[2.1813, 2.0619, 2.0999],\n",
    "                                  up=[0.1204, -0.9852, 0.1215])"
   ]
  },
  {
   "cell_type": "markdown",
   "id": "d29a6120",
   "metadata": {},
   "source": [
    "# References\n",
    "1.) [Plane Segmentation using RANSAC Open3d API](http://www.open3d.org/docs/latest/tutorial/Basic/pointcloud.html)<br>\n",
    "2.) [RANSAC Algorithm](https://www.youtube.com/watch?v=Cu1f6vpEilg)"
   ]
  },
  {
   "cell_type": "code",
   "execution_count": null,
   "id": "f414086b",
   "metadata": {},
   "outputs": [],
   "source": []
  }
 ],
 "metadata": {
  "kernelspec": {
   "display_name": "Python 3 (ipykernel)",
   "language": "python",
   "name": "python3"
  },
  "language_info": {
   "codemirror_mode": {
    "name": "ipython",
    "version": 3
   },
   "file_extension": ".py",
   "mimetype": "text/x-python",
   "name": "python",
   "nbconvert_exporter": "python",
   "pygments_lexer": "ipython3",
   "version": "3.7.13"
  }
 },
 "nbformat": 4,
 "nbformat_minor": 5
}
