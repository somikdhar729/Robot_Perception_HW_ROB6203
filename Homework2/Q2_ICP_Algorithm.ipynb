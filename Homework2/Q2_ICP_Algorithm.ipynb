{
 "cells": [
  {
   "cell_type": "code",
   "execution_count": 19,
   "id": "c2d00b8a",
   "metadata": {},
   "outputs": [],
   "source": [
    "import numpy as np\n",
    "import cv2\n",
    "from scipy.linalg import orthogonal_procrustes\n",
    "import open3d as o3d\n",
    "from sklearn.neighbors import NearestNeighbors\n",
    "import copy\n",
    "import scipy\n",
    "import matplotlib.pyplot as plt"
   ]
  },
  {
   "cell_type": "code",
   "execution_count": 2,
   "id": "646adf4f",
   "metadata": {},
   "outputs": [],
   "source": [
    "demo_icp_pcds = o3d.data.DemoICPPointClouds()\n",
    "source = o3d.io.read_point_cloud(demo_icp_pcds.paths[0])\n",
    "target = o3d.io.read_point_cloud(demo_icp_pcds.paths[1])\n",
    "# Write your code here\n",
    "def draw_registration_result(source, target, transformation):\n",
    "    \"\"\"\n",
    "    param: source - source point cloud\n",
    "    param: target - target point cloud\n",
    "    param: transformation - 4 X 4 homogeneous transformation matrix\n",
    "    \"\"\"\n",
    "    source_temp = copy.deepcopy(source)\n",
    "    target_temp = copy.deepcopy(target)\n",
    "    source_temp.paint_uniform_color([1, 0.706, 0])\n",
    "    target_temp.paint_uniform_color([0, 0.651, 0.929])\n",
    "    source_temp.transform(transformation)\n",
    "    o3d.visualization.draw_geometries([source_temp, target_temp],\n",
    "    zoom=0.4459,\n",
    "    front=[0.9288, -0.2951, -0.2242],\n",
    "    lookat=[1.6784, 2.0612, 1.4451],\n",
    "    up=[-0.3402, -0.9189, -0.1996])"
   ]
  },
  {
   "cell_type": "code",
   "execution_count": 3,
   "id": "4b0c58c7",
   "metadata": {},
   "outputs": [],
   "source": [
    "source_points = np.asarray(source.points)\n",
    "target_points = np.asarray(target.points)"
   ]
  },
  {
   "cell_type": "code",
   "execution_count": 4,
   "id": "09891cfc",
   "metadata": {},
   "outputs": [
    {
     "data": {
      "text/plain": [
       "(198835, 3)"
      ]
     },
     "execution_count": 4,
     "metadata": {},
     "output_type": "execute_result"
    }
   ],
   "source": [
    "source_points.shape"
   ]
  },
  {
   "cell_type": "code",
   "execution_count": 5,
   "id": "21a97b00",
   "metadata": {},
   "outputs": [
    {
     "data": {
      "text/plain": [
       "(137833, 3)"
      ]
     },
     "execution_count": 5,
     "metadata": {},
     "output_type": "execute_result"
    }
   ],
   "source": [
    "target_points.shape"
   ]
  },
  {
   "cell_type": "markdown",
   "id": "19478dbf",
   "metadata": {},
   "source": [
    "# Finding the transformation using ICP API"
   ]
  },
  {
   "cell_type": "code",
   "execution_count": 6,
   "id": "1b66f4bd",
   "metadata": {},
   "outputs": [
    {
     "name": "stdout",
     "output_type": "stream",
     "text": [
      "Apply point-to-point ICP\n",
      "RegistrationResult with fitness=3.724495e-01, inlier_rmse=7.760179e-03, and correspondence_set size of 74056\n",
      "Access transformation to get result.\n",
      "Transformation is:\n",
      "[[ 0.83924644  0.01006041 -0.54390867  0.64639961]\n",
      " [-0.15102344  0.96521988 -0.21491604  0.75166079]\n",
      " [ 0.52191123  0.2616952   0.81146378 -1.50303533]\n",
      " [ 0.          0.          0.          1.        ]]\n"
     ]
    }
   ],
   "source": [
    "threshold = 0.02\n",
    "trans_init = np.asarray([[0.862, 0.011, -0.507, 0.5],\n",
    "                         [-0.139, 0.967, -0.215, 0.7],\n",
    "                         [0.487, 0.255, 0.835, -1.4], [0.0, 0.0, 0.0, 1.0]])\n",
    "print(\"Apply point-to-point ICP\")\n",
    "reg_p2p = o3d.pipelines.registration.registration_icp(\n",
    "    source, target, threshold, trans_init,\n",
    "    o3d.pipelines.registration.TransformationEstimationPointToPoint())\n",
    "print(reg_p2p)\n",
    "print(\"Transformation is:\")\n",
    "print(reg_p2p.transformation)\n",
    "draw_registration_result(source, target, reg_p2p.transformation)"
   ]
  },
  {
   "cell_type": "markdown",
   "id": "d771cf0e",
   "metadata": {},
   "source": [
    "# Finding the transformation using implementation of ICP from scratch"
   ]
  },
  {
   "cell_type": "code",
   "execution_count": 15,
   "id": "468520fa",
   "metadata": {},
   "outputs": [],
   "source": [
    "class ICP_algo:\n",
    "    def __init__(self,source_point_cloud = None, target_point_cloud = None):\n",
    "        self.source = source_point_cloud\n",
    "        self.target = target_point_cloud\n",
    "    \n",
    "    def find_correspondences(self,source,target):\n",
    "        # Need to find the nearest point/ correspondences to the target point\n",
    "        source_kd_tree = o3d.geometry.KDTreeFlann(source)\n",
    "        index = []\n",
    "        for i,pts in enumerate(target.points):            \n",
    "            [k,idx, _] = source_kd_tree.search_knn_vector_3d(pts,1)            \n",
    "            index.append(idx[0])\n",
    "\n",
    "        correspondences = list(zip(index,list(range(len(target.points)))))\n",
    "\n",
    "        return correspondences\n",
    "    \n",
    "    def icp(self,init_pose=None, max_iterations=100, tolerance=0.001):\n",
    "\n",
    "        # apply the initial pose estimation\n",
    "        if init_pose is not None:\n",
    "            src = np.dot(init_pose, src)\n",
    "        \n",
    "        source_temp = copy.deepcopy(self.source)\n",
    "        target_temp = copy.deepcopy(self.target)\n",
    "        target_points = np.asarray(target_temp.points).T\n",
    "\n",
    "        dist_values = []\n",
    "        list_T = []\n",
    "        prev_error = 0\n",
    "        \n",
    "#         for i in range(max_iterations):\n",
    "        while(True):\n",
    "            correspondences = self.find_correspondences(source_temp, target_temp)\n",
    "            source_points = np.asarray(source_temp.points).T\n",
    "\n",
    "            source_correspondences = source_points[:,np.array(correspondences)[:,0]]\n",
    "            target_correspondences = target_points[:,np.array(correspondences)[:,1]]\n",
    "            \n",
    "            # Finding the mean of the correspondences of both source and target points\n",
    "            centroid_source = np.mean(source_correspondences,axis = 1).reshape(-1,1)\n",
    "            centroid_target = np.mean(target_correspondences,axis = 1).reshape(-1,1)\n",
    "            \n",
    "            source_mean = source_correspondences - centroid_source\n",
    "            target_mean = target_correspondences - centroid_source\n",
    "            \n",
    "            # Calculating the error\n",
    "            \n",
    "            dist_values.append(np.linalg.norm(target_mean - source_mean))\n",
    "            \n",
    "            \n",
    "            H = target_mean @ source_mean.T\n",
    "            U, S, V = np.linalg.svd(H)\n",
    "            R = U.dot(V)\n",
    "            # special reflection case\n",
    "            if np.linalg.det(R) < 0:\n",
    "                V[:,2] *= -1\n",
    "                R = np.dot(U,V)\n",
    "\n",
    "            t = centroid_target - R.dot(centroid_source)    \n",
    "            T = np.concatenate([R,t],axis=1)\n",
    "            T = np.concatenate([T,[[0.,0.,0.,1.]]],axis = 0)\n",
    "            \n",
    "            # Storing all the transformation matrices\n",
    "            list_T.append(T)\n",
    "            # Transforming the source\n",
    "            source_temp.transform(T)\n",
    "            \n",
    "            # Check error\n",
    "            mean_error = np.linalg.norm(target_mean - source_mean)\n",
    "            \n",
    "            if np.abs(prev_error - mean_error) < tolerance:\n",
    "                break\n",
    "                \n",
    "            prev_error = mean_error                      \n",
    "\n",
    "\n",
    "        return list_T, dist_values, source_temp"
   ]
  },
  {
   "cell_type": "code",
   "execution_count": null,
   "id": "7be90c8e",
   "metadata": {},
   "outputs": [],
   "source": [
    "if __name__ == '__main__':\n",
    "    model = ICP_algo(source,target)\n",
    "    T, err, src = model.icp()"
   ]
  },
  {
   "cell_type": "code",
   "execution_count": 20,
   "id": "92b2f082",
   "metadata": {},
   "outputs": [
    {
     "data": {
      "image/png": "[encoded data removed]",
      "text/plain": [
       "<Figure size 640x480 with 1 Axes>"
      ]
     },
     "metadata": {},
     "output_type": "display_data"
    }
   ],
   "source": [
    "# Plotting the error\n",
    "plt.plot(err)\n",
    "plt.title(\"Error vs iterations\");"
   ]
  },
  {
   "cell_type": "code",
   "execution_count": 17,
   "id": "514b046f",
   "metadata": {},
   "outputs": [
    {
     "name": "stdout",
     "output_type": "stream",
     "text": [
      "[[ 0.84400553  0.00796449 -0.53627534  0.6430298 ]\n",
      " [-0.14830667  0.9643682  -0.21908698  0.81212336]\n",
      " [ 0.51542197  0.26444384  0.81511328 -1.47435384]\n",
      " [ 0.          0.          0.          1.        ]]\n"
     ]
    }
   ],
   "source": [
    "# The final transformation matrix \n",
    "T_final = np.eye(4)\n",
    "\n",
    "for i in T:\n",
    "    T_final = i @ T_final \n",
    "print(T_final)"
   ]
  },
  {
   "cell_type": "code",
   "execution_count": 24,
   "id": "0043ed7d",
   "metadata": {},
   "outputs": [],
   "source": [
    "draw_registration_result(source, target, T_final)"
   ]
  },
  {
   "cell_type": "markdown",
   "id": "d9e3f733",
   "metadata": {},
   "source": [
    "# Part(b)"
   ]
  },
  {
   "cell_type": "code",
   "execution_count": 23,
   "id": "932b9f19",
   "metadata": {},
   "outputs": [],
   "source": [
    "pcd1 = o3d.io.read_point_cloud('kitti_frame1.pcd')\n",
    "pcd2 = o3d.io.read_point_cloud('kitti_frame2.pcd')"
   ]
  },
  {
   "cell_type": "code",
   "execution_count": 29,
   "id": "3179d261",
   "metadata": {},
   "outputs": [],
   "source": [
    "if __name__ == '__main__':\n",
    "    model_test = ICP_algo(pcd1,pcd2)\n",
    "    T_test, err_test, src_test = model_test.icp()"
   ]
  },
  {
   "cell_type": "code",
   "execution_count": 30,
   "id": "aa9ec853",
   "metadata": {},
   "outputs": [
    {
     "data": {
      "image/png": "[encoded data removed]",
      "text/plain": [
       "<Figure size 640x480 with 1 Axes>"
      ]
     },
     "metadata": {},
     "output_type": "display_data"
    }
   ],
   "source": [
    "# Plotting the error\n",
    "plt.plot(err)\n",
    "plt.title(\"Error vs iterations\");"
   ]
  },
  {
   "cell_type": "code",
   "execution_count": 31,
   "id": "05f843ad",
   "metadata": {},
   "outputs": [
    {
     "name": "stdout",
     "output_type": "stream",
     "text": [
      "[[ 0.99993754  0.01028608  0.00437079 -1.22042295]\n",
      " [-0.01027192  0.99994196 -0.00325139 -0.3935267 ]\n",
      " [-0.00440398  0.00320629  0.99998516  0.10912976]\n",
      " [ 0.          0.          0.          1.        ]]\n"
     ]
    }
   ],
   "source": [
    "# The final transformation matrix \n",
    "T_final_test = np.eye(4)\n",
    "for i in T:\n",
    "    T_final_test = i @ T_final \n",
    "print(T_final)"
   ]
  },
  {
   "cell_type": "code",
   "execution_count": 32,
   "id": "f6e67e1d",
   "metadata": {},
   "outputs": [],
   "source": [
    "draw_registration_result(pcd1,pcd2,T_final_test)"
   ]
  },
  {
   "cell_type": "code",
   "execution_count": null,
   "id": "5e17487c",
   "metadata": {},
   "outputs": [],
   "source": []
  }
 ],
 "metadata": {
  "kernelspec": {
   "display_name": "Python 3 (ipykernel)",
   "language": "python",
   "name": "python3"
  },
  "language_info": {
   "codemirror_mode": {
    "name": "ipython",
    "version": 3
   },
   "file_extension": ".py",
   "mimetype": "text/x-python",
   "name": "python",
   "nbconvert_exporter": "python",
   "pygments_lexer": "ipython3",
   "version": "3.7.13"
  }
 },
 "nbformat": 4,
 "nbformat_minor": 5
}
