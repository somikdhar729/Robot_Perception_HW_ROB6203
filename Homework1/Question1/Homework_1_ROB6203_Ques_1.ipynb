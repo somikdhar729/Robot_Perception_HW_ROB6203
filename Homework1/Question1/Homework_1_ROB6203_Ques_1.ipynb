{
 "cells": [
  {
   "cell_type": "code",
   "execution_count": 1,
   "id": "5a734a80",
   "metadata": {},
   "outputs": [],
   "source": [
    "import cv2\n",
    "import sys\n",
    "from matplotlib import pyplot as plt\n",
    "import numpy as np"
   ]
  },
  {
   "cell_type": "code",
   "execution_count": 2,
   "id": "4be01c89",
   "metadata": {},
   "outputs": [],
   "source": [
    "img = cv2.imread(\"for_watson.png\")\n",
    "\n",
    "#Check if the image is loaded properly\n",
    "if img is None:\n",
    "    sys.exit(\"Could not read the image. Try again\")\n",
    "\n",
    "#Display the image\n",
    "cv2.imshow(\"Prob_1(a)\",img)\n",
    "cv2.waitKey(0)\n",
    "cv2.destroyAllWindows()"
   ]
  },
  {
   "cell_type": "code",
   "execution_count": 3,
   "id": "b6bb1554",
   "metadata": {},
   "outputs": [],
   "source": [
    "# Transform the original image from BGR to Grayscale\n",
    "img1 = cv2.cvtColor(img, cv2.COLOR_BGR2GRAY)"
   ]
  },
  {
   "cell_type": "code",
   "execution_count": 4,
   "id": "350331ad",
   "metadata": {},
   "outputs": [],
   "source": [
    "cv2.imshow(\"BGR to Grayscale transform\",img1)\n",
    "cv2.waitKey(0)\n",
    "cv2.destroyAllWindows()"
   ]
  },
  {
   "cell_type": "code",
   "execution_count": 5,
   "id": "b8e04ce1",
   "metadata": {},
   "outputs": [],
   "source": [
    "# Transform the original image from BGR to RGB\n",
    "img2 = cv2.cvtColor(img, cv2.COLOR_BGR2RGB)"
   ]
  },
  {
   "cell_type": "code",
   "execution_count": 6,
   "id": "3d8e7246",
   "metadata": {},
   "outputs": [],
   "source": [
    "cv2.imshow(\"BGR to RGB transform\",img2)\n",
    "cv2.waitKey(0)\n",
    "cv2.destroyAllWindows()"
   ]
  },
  {
   "cell_type": "code",
   "execution_count": 7,
   "id": "4eef3836",
   "metadata": {},
   "outputs": [],
   "source": [
    "# Perform RGB to HSV_FULL transformation on img2\n",
    "img3 = cv2.cvtColor(img2, cv2.COLOR_RGB2HSV_FULL)"
   ]
  },
  {
   "cell_type": "code",
   "execution_count": 8,
   "id": "cc3d52ae",
   "metadata": {},
   "outputs": [],
   "source": [
    "cv2.imshow(\"RGB to HSV_FULL Transform\",img3)\n",
    "cv2.waitKey(0)\n",
    "cv2.destroyAllWindows()"
   ]
  },
  {
   "cell_type": "code",
   "execution_count": 9,
   "id": "4a2b7df9",
   "metadata": {},
   "outputs": [],
   "source": [
    "# Perform HSV to BGR transformation on img2\n",
    "img4 = cv2.cvtColor(img3, cv2.COLOR_HSV2BGR)"
   ]
  },
  {
   "cell_type": "code",
   "execution_count": 10,
   "id": "fe0cb337",
   "metadata": {},
   "outputs": [],
   "source": [
    "cv2.imshow(\"HSV to BGR Transform\",img4)\n",
    "cv2.waitKey(0)\n",
    "cv2.destroyAllWindows()"
   ]
  },
  {
   "cell_type": "code",
   "execution_count": 11,
   "id": "b1af9945",
   "metadata": {},
   "outputs": [
    {
     "data": {
      "text/plain": [
       "True"
      ]
     },
     "execution_count": 11,
     "metadata": {},
     "output_type": "execute_result"
    }
   ],
   "source": [
    "cv2.imwrite(\"RGB to HSV_FULL Transform.png\",img3)"
   ]
  },
  {
   "cell_type": "code",
   "execution_count": 12,
   "id": "ec2b11f8",
   "metadata": {},
   "outputs": [
    {
     "data": {
      "text/plain": [
       "True"
      ]
     },
     "execution_count": 12,
     "metadata": {},
     "output_type": "execute_result"
    }
   ],
   "source": [
    "cv2.imwrite(\"HSV to BGR Transform.png\",img4)"
   ]
  },
  {
   "cell_type": "code",
   "execution_count": null,
   "id": "0c8b9d0b",
   "metadata": {},
   "outputs": [],
   "source": []
  }
 ],
 "metadata": {
  "kernelspec": {
   "display_name": "Python 3 (ipykernel)",
   "language": "python",
   "name": "python3"
  },
  "language_info": {
   "codemirror_mode": {
    "name": "ipython",
    "version": 3
   },
   "file_extension": ".py",
   "mimetype": "text/x-python",
   "name": "python",
   "nbconvert_exporter": "python",
   "pygments_lexer": "ipython3",
   "version": "3.8.8"
  }
 },
 "nbformat": 4,
 "nbformat_minor": 5
}
